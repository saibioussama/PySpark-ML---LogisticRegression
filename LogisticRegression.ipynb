{
 "cells": [
  {
   "cell_type": "code",
   "execution_count": 7,
   "metadata": {},
   "outputs": [
    {
     "data": {
      "text/plain": [
       "1470"
      ]
     },
     "execution_count": 7,
     "metadata": {},
     "output_type": "execute_result"
    }
   ],
   "source": [
    "from pyspark.sql import SparkSession\n",
    "import pandas as pd\n",
    "import matplotlib.pyplot as plt\n",
    "\n",
    "spark = SparkSession.builder.appName('ml-bank').getOrCreate()\n",
    "df = spark.read.csv('ibm-hr-analytics-attrition.csv', header = True, inferSchema = True)\n",
    "\n",
    "df = df.selectExpr(\"PerformanceRating as label\",\"Age\",\"Attrition\",\"JobSatisfaction\",\"OverTime\",\"Gender\")\n",
    "df.count()"
   ]
  },
  {
   "cell_type": "code",
   "execution_count": 8,
   "metadata": {},
   "outputs": [
    {
     "data": {
      "text/plain": [
       "DataFrame[label: int, Age: int, Attrition: string, JobSatisfaction: int, OverTime: string, Gender: string]"
      ]
     },
     "execution_count": 8,
     "metadata": {},
     "output_type": "execute_result"
    }
   ],
   "source": [
    "df = df.na.drop()\n",
    "df"
   ]
  },
  {
   "cell_type": "code",
   "execution_count": 9,
   "metadata": {},
   "outputs": [],
   "source": [
    "from pyspark.ml.feature import  StringIndexer, VectorAssembler, VectorIndexer, OneHotEncoder, MinMaxScaler\n",
    "from pyspark.ml.linalg import Vectors\n",
    "\n",
    "#AttritionIndexer  = StringIndexer(inputCol=\"Attrition\", outputCol=\"AttritionIndex\")\n",
    "#OverTimeIndexer  = StringIndexer(inputCol=\"OverTime\", outputCol=\"OverTimeIndex\")\n",
    "#GenderIndexer  = StringIndexer(inputCol=\"Gender\", outputCol=\"GenderIndex\")\n",
    "\n",
    "#AttritionEncoder = OneHotEncoder(inputCol=\"AttritionIndex\", outputCol=\"AttritionVec\")\n",
    "#OverTimeEncoder = OneHotEncoder(inputCol=\"OverTimeIndex\", outputCol=\"OverTimeVec\")\n",
    "#GenderEncoder = OneHotEncoder(inputCol=\"GenderIndex\", outputCol=\"GenderVec\")\n",
    "\n",
    "\n",
    "categorical_variables = [ \"Attrition\",  \"OverTime\", \"Gender\"]\n",
    "\n",
    "indexers = [StringIndexer(inputCol=column, outputCol=column+\"-index\") for column in categorical_variables]\n",
    "encoder = OneHotEncoder(\n",
    "    inputCols=[indexer.getOutputCol() for indexer in indexers],\n",
    "    outputCols=[\"{0}-encoded\".format(indexer.getOutputCol()) for indexer in indexers]\n",
    ")\n",
    "assembler = VectorAssembler(\n",
    "    inputCols=encoder.getOutputCols(), \n",
    "    outputCol=\"features\"\n",
    ")\n",
    "#assembler = VectorAssembler(inputCols=[\"Age\", \"Attrition\", \"JobSatisfaction\", \"OverTime\", \"Gender\"], outputCol=\"features\")\n"
   ]
  },
  {
   "cell_type": "code",
   "execution_count": 19,
   "metadata": {},
   "outputs": [
    {
     "name": "stdout",
     "output_type": "stream",
     "text": [
      "root\n",
      " |-- label: integer (nullable = true)\n",
      " |-- Age: integer (nullable = true)\n",
      " |-- Attrition: string (nullable = true)\n",
      " |-- JobSatisfaction: integer (nullable = true)\n",
      " |-- OverTime: string (nullable = true)\n",
      " |-- Gender: string (nullable = true)\n",
      "\n"
     ]
    }
   ],
   "source": [
    "train,test = df.randomSplit([0.7,0.3],seed=12345)\n",
    "test.printSchema()"
   ]
  },
  {
   "cell_type": "code",
   "execution_count": 20,
   "metadata": {},
   "outputs": [],
   "source": [
    "from pyspark.ml import Pipeline\n",
    "from pyspark.ml.classification import LogisticRegression\n",
    "from pyspark.ml.linalg import Vectors\n",
    "\n",
    "pipeline = Pipeline(stages=indexers + [encoder, assembler])"
   ]
  },
  {
   "cell_type": "code",
   "execution_count": null,
   "metadata": {},
   "outputs": [],
   "source": [
    " "
   ]
  },
  {
   "cell_type": "code",
   "execution_count": 21,
   "metadata": {},
   "outputs": [
    {
     "name": "stdout",
     "output_type": "stream",
     "text": [
      "root\n",
      " |-- label: integer (nullable = true)\n",
      " |-- Age: integer (nullable = true)\n",
      " |-- Attrition: string (nullable = true)\n",
      " |-- JobSatisfaction: integer (nullable = true)\n",
      " |-- OverTime: string (nullable = true)\n",
      " |-- Gender: string (nullable = true)\n",
      " |-- Attrition-index: double (nullable = false)\n",
      " |-- OverTime-index: double (nullable = false)\n",
      " |-- Gender-index: double (nullable = false)\n",
      " |-- Attrition-index-encoded: vector (nullable = true)\n",
      " |-- OverTime-index-encoded: vector (nullable = true)\n",
      " |-- Gender-index-encoded: vector (nullable = true)\n",
      " |-- features: vector (nullable = true)\n",
      "\n"
     ]
    }
   ],
   "source": [
    "result = pipeline.fit(train).transform(train) \n",
    "test = pipeline.fit(test).transform(test)\n",
    "test.printSchema()"
   ]
  },
  {
   "cell_type": "code",
   "execution_count": 22,
   "metadata": {},
   "outputs": [
    {
     "name": "stdout",
     "output_type": "stream",
     "text": [
      "root\n",
      " |-- label: integer (nullable = true)\n",
      " |-- Age: integer (nullable = true)\n",
      " |-- Attrition: string (nullable = true)\n",
      " |-- JobSatisfaction: integer (nullable = true)\n",
      " |-- OverTime: string (nullable = true)\n",
      " |-- Gender: string (nullable = true)\n",
      " |-- Attrition-index: double (nullable = false)\n",
      " |-- OverTime-index: double (nullable = false)\n",
      " |-- Gender-index: double (nullable = false)\n",
      " |-- Attrition-index-encoded: vector (nullable = true)\n",
      " |-- OverTime-index-encoded: vector (nullable = true)\n",
      " |-- Gender-index-encoded: vector (nullable = true)\n",
      " |-- features: vector (nullable = true)\n",
      " |-- scaled-features: vector (nullable = true)\n",
      "\n",
      "root\n",
      " |-- label: integer (nullable = true)\n",
      " |-- Age: integer (nullable = true)\n",
      " |-- Attrition: string (nullable = true)\n",
      " |-- JobSatisfaction: integer (nullable = true)\n",
      " |-- OverTime: string (nullable = true)\n",
      " |-- Gender: string (nullable = true)\n",
      " |-- Attrition-index: double (nullable = false)\n",
      " |-- OverTime-index: double (nullable = false)\n",
      " |-- Gender-index: double (nullable = false)\n",
      " |-- Attrition-index-encoded: vector (nullable = true)\n",
      " |-- OverTime-index-encoded: vector (nullable = true)\n",
      " |-- Gender-index-encoded: vector (nullable = true)\n",
      " |-- features: vector (nullable = true)\n",
      " |-- scaled-features: vector (nullable = true)\n",
      "\n"
     ]
    }
   ],
   "source": [
    "scaled_data = MinMaxScaler(inputCol=\"features\", outputCol=\"scaled-features\").fit(result).transform(result)\n",
    "scaled_data.printSchema()\n",
    "\n",
    "scaled_test_data = MinMaxScaler(inputCol=\"features\", outputCol=\"scaled-features\").fit(test).transform(test)\n",
    "scaled_test_data.printSchema()"
   ]
  },
  {
   "cell_type": "code",
   "execution_count": 23,
   "metadata": {},
   "outputs": [],
   "source": [
    "lr = LogisticRegression(featuresCol = 'scaled-features', labelCol = 'label', maxIter=10)\n",
    "lrModel = lr.fit(scaled_data)   "
   ]
  },
  {
   "cell_type": "code",
   "execution_count": 28,
   "metadata": {},
   "outputs": [
    {
     "name": "stdout",
     "output_type": "stream",
     "text": [
      "+---+-----+----------+--------------------+\n",
      "|Age|label|prediction|         probability|\n",
      "+---+-----+----------+--------------------+\n",
      "| 18|    3|       3.0|[5.35973664113289...|\n",
      "| 20|    3|       3.0|[4.10672249726723...|\n",
      "| 20|    3|       3.0|[4.10672249726723...|\n",
      "| 21|    3|       3.0|[1.68607575559453...|\n",
      "| 21|    3|       3.0|[4.72002827902979...|\n",
      "| 21|    3|       3.0|[4.10672249726723...|\n",
      "| 22|    3|       3.0|[1.15029127643826...|\n",
      "| 23|    3|       3.0|[4.10672249726723...|\n",
      "| 23|    3|       3.0|[1.15029127643826...|\n",
      "| 24|    3|       3.0|[4.72002827902979...|\n",
      "+---+-----+----------+--------------------+\n",
      "only showing top 10 rows\n",
      "\n",
      "root\n",
      " |-- label: integer (nullable = true)\n",
      " |-- Age: integer (nullable = true)\n",
      " |-- Attrition: string (nullable = true)\n",
      " |-- JobSatisfaction: integer (nullable = true)\n",
      " |-- OverTime: string (nullable = true)\n",
      " |-- Gender: string (nullable = true)\n",
      " |-- Attrition-index: double (nullable = false)\n",
      " |-- OverTime-index: double (nullable = false)\n",
      " |-- Gender-index: double (nullable = false)\n",
      " |-- Attrition-index-encoded: vector (nullable = true)\n",
      " |-- OverTime-index-encoded: vector (nullable = true)\n",
      " |-- Gender-index-encoded: vector (nullable = true)\n",
      " |-- features: vector (nullable = true)\n",
      " |-- scaled-features: vector (nullable = true)\n",
      " |-- rawPrediction: vector (nullable = true)\n",
      " |-- probability: vector (nullable = true)\n",
      " |-- prediction: double (nullable = false)\n",
      "\n"
     ]
    }
   ],
   "source": [
    "predictions = lrModel.transform(scaled_test_data)\n",
    "predictions.select('Age',  'label',  'prediction', 'probability').show(10)\n",
    "predictions.printSchema()"
   ]
  }
 ],
 "metadata": {
  "kernelspec": {
   "display_name": "Python 3",
   "language": "python",
   "name": "python3"
  },
  "language_info": {
   "codemirror_mode": {
    "name": "ipython",
    "version": 3
   },
   "file_extension": ".py",
   "mimetype": "text/x-python",
   "name": "python",
   "nbconvert_exporter": "python",
   "pygments_lexer": "ipython3",
   "version": "3.7.4"
  }
 },
 "nbformat": 4,
 "nbformat_minor": 2
}
